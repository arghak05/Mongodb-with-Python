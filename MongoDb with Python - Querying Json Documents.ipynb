{
 "cells": [
  {
   "cell_type": "markdown",
   "id": "a6933322",
   "metadata": {},
   "source": [
    "# MongoDb with Python - Querying Json Documents"
   ]
  },
  {
   "cell_type": "code",
   "execution_count": 2,
   "id": "3bf80dd9",
   "metadata": {},
   "outputs": [],
   "source": [
    "import pymongo\n",
    "\n",
    "client = pymongo.MongoClient(\"mongodb+srv://<userid>:<password>@learning.gqqqwob.mongodb.net/?retryWrites=true&w=majority\")\n",
    "db = client.test\n",
    "\n",
    "mydb=client['Employee']\n",
    "\n",
    "empinfo=mydb.employeeinformation"
   ]
  },
  {
   "cell_type": "code",
   "execution_count": 4,
   "id": "b0aebf0a",
   "metadata": {},
   "outputs": [
    {
     "data": {
      "text/plain": [
       "<pymongo.results.InsertOneResult at 0x2ce977d0af0>"
      ]
     },
     "execution_count": 4,
     "metadata": {},
     "output_type": "execute_result"
    }
   ],
   "source": [
    "record={\n",
    "        'firstname':'John',\n",
    "        'lastname':'Smith',\n",
    "        'department':'Sales',\n",
    "        'qualification':'Bcom',\n",
    "        'age':28\n",
    "    \n",
    "}\n",
    "\n",
    "empinfo.insert_one(record)"
   ]
  },
  {
   "cell_type": "code",
   "execution_count": 5,
   "id": "9e492c95",
   "metadata": {},
   "outputs": [
    {
     "data": {
      "text/plain": [
       "<pymongo.results.InsertManyResult at 0x2ce979b61c0>"
      ]
     },
     "execution_count": 5,
     "metadata": {},
     "output_type": "execute_result"
    }
   ],
   "source": [
    "records=[{\n",
    "        'firstname':'Rohit',\n",
    "        'lastname':'Aggrawal',\n",
    "        'department':'Dealer Sales',\n",
    "        'qualification':'BMS',\n",
    "        'age':37\n",
    "    \n",
    "},\n",
    "    {\n",
    "        'firstname':'Shailendra',\n",
    "        'lastname':'Anand',\n",
    "        'department':'Sales',\n",
    "        'qualification':'BMS',\n",
    "        'age':34\n",
    "    \n",
    "},\n",
    "    {\n",
    "        'firstname':'Harish',\n",
    "        'lastname':'Chand',\n",
    "        'department':'Analytics',\n",
    "        'qualification':'BE',\n",
    "        'age':44\n",
    "    \n",
    "},\n",
    "    {\n",
    "        'firstname':'Mohit',\n",
    "        'lastname':'Kapoor',\n",
    "        'department':'Corporate Sales',\n",
    "        'qualification':'Bcom',\n",
    "        'age':40\n",
    "    \n",
    "},\n",
    "    {\n",
    "        'firstname':'Deepak',\n",
    "        'lastname':'Sharma',\n",
    "        'department':'Manager',\n",
    "        'qualification':'MBA',\n",
    "        'age':47\n",
    "    \n",
    "}\n",
    "]\n",
    "\n",
    "empinfo.insert_many(records)"
   ]
  },
  {
   "cell_type": "code",
   "execution_count": 6,
   "id": "c50f8fc7",
   "metadata": {},
   "outputs": [
    {
     "data": {
      "text/plain": [
       "{'_id': ObjectId('62ecb76f5a46cf3da2589f8f'),\n",
       " 'firstname': 'Argha',\n",
       " 'lastname': 'Karmakar',\n",
       " 'department': 'Analytics'}"
      ]
     },
     "execution_count": 6,
     "metadata": {},
     "output_type": "execute_result"
    }
   ],
   "source": [
    "## Simple way of querying\n",
    "\n",
    "empinfo.find_one()"
   ]
  },
  {
   "cell_type": "code",
   "execution_count": 8,
   "id": "d1231d1e",
   "metadata": {},
   "outputs": [
    {
     "name": "stdout",
     "output_type": "stream",
     "text": [
      "{'_id': ObjectId('62ecb76f5a46cf3da2589f8f'), 'firstname': 'Argha', 'lastname': 'Karmakar', 'department': 'Analytics'}\n",
      "{'_id': ObjectId('62ecb85c5a46cf3da2589f90'), 'firstname': 'Ashwath', 'lastname': 'Shetty', 'department': 'Back Office'}\n",
      "{'_id': ObjectId('62ecb85c5a46cf3da2589f91'), 'firstname': 'Yash', 'lastname': 'Tripathi', 'department': 'Java Developer'}\n",
      "{'_id': ObjectId('62ecb85c5a46cf3da2589f92'), 'firstname': 'Sankalp', 'lastname': 'Prabhu', 'department': 'Mechanical Engg'}\n",
      "{'_id': ObjectId('62ecb85c5a46cf3da2589f93'), 'firstname': 'Piyush', 'lastname': 'Borgaonkar', 'department': 'CA'}\n",
      "{'_id': ObjectId('62ecbbb14985f34abd56a6a9'), 'firstname': 'John', 'lastname': 'Smith', 'department': 'Sales', 'qualification': 'Bcom', 'age': 28}\n",
      "{'_id': ObjectId('62ecbd3b4985f34abd56a6aa'), 'firstname': 'Rohit', 'lastname': 'Aggrawal', 'department': 'Dealer Sales', 'qualification': 'BMS', 'age': 37}\n",
      "{'_id': ObjectId('62ecbd3b4985f34abd56a6ab'), 'firstname': 'Shailendra', 'lastname': 'Anand', 'department': 'Sales', 'qualification': 'BMS', 'age': 34}\n",
      "{'_id': ObjectId('62ecbd3b4985f34abd56a6ac'), 'firstname': 'Harish', 'lastname': 'Chand', 'department': 'Analytics', 'qualification': 'BE', 'age': 44}\n",
      "{'_id': ObjectId('62ecbd3b4985f34abd56a6ad'), 'firstname': 'Mohit', 'lastname': 'Kapoor', 'department': 'Corporate Sales', 'qualification': 'Bcom', 'age': 40}\n",
      "{'_id': ObjectId('62ecbd3b4985f34abd56a6ae'), 'firstname': 'Deepak', 'lastname': 'Sharma', 'department': 'Manager', 'qualification': 'MBA', 'age': 47}\n"
     ]
    }
   ],
   "source": [
    "## select * from employeeinformation\n",
    "\n",
    "for record in empinfo.find({}):\n",
    "    print(record)"
   ]
  },
  {
   "cell_type": "code",
   "execution_count": 9,
   "id": "d3912b95",
   "metadata": {},
   "outputs": [
    {
     "name": "stdout",
     "output_type": "stream",
     "text": [
      "{'_id': ObjectId('62ecb76f5a46cf3da2589f8f'), 'firstname': 'Argha', 'lastname': 'Karmakar', 'department': 'Analytics'}\n"
     ]
    }
   ],
   "source": [
    "## Querying the json documents based on equality conditions\n",
    "## select * from employeeinformation where  firstname='Argha'\n",
    "\n",
    "for record in empinfo.find({'firstname':'Argha'}):\n",
    "    print(record)"
   ]
  },
  {
   "cell_type": "code",
   "execution_count": 11,
   "id": "818a7021",
   "metadata": {},
   "outputs": [
    {
     "name": "stdout",
     "output_type": "stream",
     "text": [
      "{'_id': ObjectId('62ecbd3b4985f34abd56a6aa'), 'firstname': 'Rohit', 'lastname': 'Aggrawal', 'department': 'Dealer Sales', 'qualification': 'BMS', 'age': 37}\n",
      "{'_id': ObjectId('62ecbd3b4985f34abd56a6ab'), 'firstname': 'Shailendra', 'lastname': 'Anand', 'department': 'Sales', 'qualification': 'BMS', 'age': 34}\n",
      "{'_id': ObjectId('62ecbd3b4985f34abd56a6ac'), 'firstname': 'Harish', 'lastname': 'Chand', 'department': 'Analytics', 'qualification': 'BE', 'age': 44}\n"
     ]
    }
   ],
   "source": [
    "## Query documents using query operators ($in, $lt, $gt)\n",
    "\n",
    "for record in empinfo.find({'qualification':{'$in':['BMS','BE']}}):\n",
    "    print(record)"
   ]
  },
  {
   "cell_type": "code",
   "execution_count": 13,
   "id": "f2a0d074",
   "metadata": {},
   "outputs": [
    {
     "name": "stdout",
     "output_type": "stream",
     "text": [
      "{'_id': ObjectId('62ecbd3b4985f34abd56a6ae'), 'firstname': 'Deepak', 'lastname': 'Sharma', 'department': 'Manager', 'qualification': 'MBA', 'age': 47}\n"
     ]
    }
   ],
   "source": [
    "## And and query operators\n",
    "\n",
    "for record in empinfo.find({'qualification':'MBA','age':{'$lt':50}}):\n",
    "    print(record)\n",
    "    "
   ]
  },
  {
   "cell_type": "code",
   "execution_count": 15,
   "id": "2d8fa4c3",
   "metadata": {},
   "outputs": [
    {
     "name": "stdout",
     "output_type": "stream",
     "text": [
      "{'_id': ObjectId('62ecbd3b4985f34abd56a6aa'), 'firstname': 'Rohit', 'lastname': 'Aggrawal', 'department': 'Dealer Sales', 'qualification': 'BMS', 'age': 37}\n",
      "{'_id': ObjectId('62ecbd3b4985f34abd56a6ab'), 'firstname': 'Shailendra', 'lastname': 'Anand', 'department': 'Sales', 'qualification': 'BMS', 'age': 34}\n",
      "{'_id': ObjectId('62ecbd3b4985f34abd56a6ac'), 'firstname': 'Harish', 'lastname': 'Chand', 'department': 'Analytics', 'qualification': 'BE', 'age': 44}\n"
     ]
    }
   ],
   "source": [
    "## OR operators\n",
    "\n",
    "for record in empinfo.find({'$or':[{'firstname':'Harish'},{'qualification':'BMS'}]}):\n",
    "    print(record)"
   ]
  },
  {
   "cell_type": "code",
   "execution_count": 16,
   "id": "5fe114ca",
   "metadata": {},
   "outputs": [],
   "source": [
    "inventory = mydb.inventory"
   ]
  },
  {
   "cell_type": "code",
   "execution_count": 18,
   "id": "054ac4a5",
   "metadata": {},
   "outputs": [
    {
     "data": {
      "text/plain": [
       "<pymongo.results.InsertManyResult at 0x2ce99786f70>"
      ]
     },
     "execution_count": 18,
     "metadata": {},
     "output_type": "execute_result"
    }
   ],
   "source": [
    "inventory.insert_many([\n",
    "    { \"item\": \"journal\", \"qty\": 25, \"size\": { \"h\": 14, \"w\": 21, \"uom\": \"cm\" }, \"status\": \"A\" },\n",
    "    { \"item\": \"notebook\", \"qty\": 50, \"size\": { \"h\": 8.5, \"w\": 11, \"uom\": \"in\" }, \"status\": \"A\" },\n",
    "    { \"item\": \"paper\", \"qty\": 100, \"size\": { \"h\": 8.5, \"w\": 11, \"uom\": \"in\" }, \"status\": \"D\" },\n",
    "    { \"item\": \"planner\", \"qty\": 75, \"size\": { \"h\": 22.85, \"w\": 30, \"uom\": \"cm\" }, \"status\": \"D\" },\n",
    "    { \"item\": \"postcard\", \"qty\": 45, \"size\": { \"h\": 10, \"w\": 15.25, \"uom\": \"cm\" }, \"status\": \"A\" }\n",
    "])"
   ]
  },
  {
   "cell_type": "code",
   "execution_count": 19,
   "id": "d2da1e0e",
   "metadata": {},
   "outputs": [
    {
     "name": "stdout",
     "output_type": "stream",
     "text": [
      "{'_id': ObjectId('62ecc53c4985f34abd56a6af'), 'item': 'journal', 'qty': 25, 'size': {'h': 14, 'w': 21, 'uom': 'cm'}, 'status': 'A'}\n"
     ]
    }
   ],
   "source": [
    "for record in inventory.find({\"size\": { \"h\": 14, \"w\": 21, \"uom\": \"cm\" }}):\n",
    "    print(record)"
   ]
  },
  {
   "cell_type": "code",
   "execution_count": null,
   "id": "cb1df83a",
   "metadata": {},
   "outputs": [],
   "source": []
  }
 ],
 "metadata": {
  "kernelspec": {
   "display_name": "Python 3 (ipykernel)",
   "language": "python",
   "name": "python3"
  },
  "language_info": {
   "codemirror_mode": {
    "name": "ipython",
    "version": 3
   },
   "file_extension": ".py",
   "mimetype": "text/x-python",
   "name": "python",
   "nbconvert_exporter": "python",
   "pygments_lexer": "ipython3",
   "version": "3.9.12"
  }
 },
 "nbformat": 4,
 "nbformat_minor": 5
}
