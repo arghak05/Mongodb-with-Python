{
 "cells": [
  {
   "cell_type": "code",
   "execution_count": 1,
   "id": "788a3d99",
   "metadata": {},
   "outputs": [],
   "source": [
    "import pymongo"
   ]
  },
  {
   "cell_type": "code",
   "execution_count": 2,
   "id": "8bfea616",
   "metadata": {},
   "outputs": [],
   "source": [
    "\n",
    "client = pymongo.MongoClient(\"mongodb+srv://<userid>:<password>@learning.gqqqwob.mongodb.net/?retryWrites=true&w=majority\")\n",
    "db = client.test\n"
   ]
  },
  {
   "cell_type": "code",
   "execution_count": 3,
   "id": "98b6e15b",
   "metadata": {},
   "outputs": [],
   "source": [
    "mydb=client['Employee']"
   ]
  },
  {
   "cell_type": "code",
   "execution_count": 4,
   "id": "cdf65620",
   "metadata": {},
   "outputs": [],
   "source": [
    "information=mydb.employeeinformation"
   ]
  },
  {
   "cell_type": "code",
   "execution_count": 8,
   "id": "46ac19dd",
   "metadata": {},
   "outputs": [],
   "source": [
    "record={\n",
    "        'firstname':'Argha',\n",
    "        'lastname':'Karmakar',\n",
    "        'department':'Analytics'\n",
    "    \n",
    "        }"
   ]
  },
  {
   "cell_type": "code",
   "execution_count": 9,
   "id": "111d1c13",
   "metadata": {},
   "outputs": [
    {
     "data": {
      "text/plain": [
       "<pymongo.results.InsertOneResult at 0x1ffb6b876d0>"
      ]
     },
     "execution_count": 9,
     "metadata": {},
     "output_type": "execute_result"
    }
   ],
   "source": [
    "information.insert_one(record)"
   ]
  },
  {
   "cell_type": "code",
   "execution_count": 10,
   "id": "e475f27c",
   "metadata": {},
   "outputs": [],
   "source": [
    "records=[{\n",
    "            'firstname':'Ashwath',\n",
    "            'lastname':'Shetty',\n",
    "            'department':'Back Office'\n",
    "    \n",
    "        },\n",
    "        {\n",
    "            'firstname':'Yash',\n",
    "            'lastname':'Tripathi',\n",
    "            'department':'Java Developer'\n",
    "    \n",
    "        },\n",
    "        {\n",
    "            'firstname':'Sankalp',\n",
    "            'lastname':'Prabhu',\n",
    "            'department':'Mechanical Engg'\n",
    "    \n",
    "        },\n",
    "        {\n",
    "            'firstname':'Piyush',\n",
    "            'lastname':'Borgaonkar',\n",
    "            'department':'CA'\n",
    "    \n",
    "        }\n",
    "        ]"
   ]
  },
  {
   "cell_type": "code",
   "execution_count": 11,
   "id": "a8dc2597",
   "metadata": {},
   "outputs": [
    {
     "data": {
      "text/plain": [
       "<pymongo.results.InsertManyResult at 0x1ffb738f610>"
      ]
     },
     "execution_count": 11,
     "metadata": {},
     "output_type": "execute_result"
    }
   ],
   "source": [
    "information.insert_many(records)"
   ]
  },
  {
   "cell_type": "code",
   "execution_count": null,
   "id": "e0534946",
   "metadata": {},
   "outputs": [],
   "source": []
  }
 ],
 "metadata": {
  "kernelspec": {
   "display_name": "Python 3 (ipykernel)",
   "language": "python",
   "name": "python3"
  },
  "language_info": {
   "codemirror_mode": {
    "name": "ipython",
    "version": 3
   },
   "file_extension": ".py",
   "mimetype": "text/x-python",
   "name": "python",
   "nbconvert_exporter": "python",
   "pygments_lexer": "ipython3",
   "version": "3.9.12"
  }
 },
 "nbformat": 4,
 "nbformat_minor": 5
}
